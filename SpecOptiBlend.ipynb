{
  "nbformat": 4,
  "nbformat_minor": 0,
  "metadata": {
    "colab": {
      "provenance": []
    },
    "kernelspec": {
      "name": "python3",
      "display_name": "Python 3"
    },
    "language_info": {
      "name": "python"
    }
  },
  "cells": [
    {
      "cell_type": "markdown",
      "source": [
        "This open-source software aids in identifying the ideal ratio of each spectral data component for the reconstruction of a sample when only its spectral information is available.This is a sample to reconstruct [Western University](https://www.uwo.ca/index.html)'s color which Purple. It could be applied to any other color."
      ],
      "metadata": {
        "id": "P1VXmJu1Aw_V"
      }
    },
    {
      "cell_type": "code",
      "source": [
        "#install required libraries\n",
        "\n",
        "!pip install GPyOpt\n",
        "!pip install pyDOE\n",
        "!pip install scikit-optimize"
      ],
      "metadata": {
        "id": "JfBi-EO4DEcP"
      },
      "execution_count": 3,
      "outputs": []
    },
    {
      "cell_type": "code",
      "execution_count": null,
      "metadata": {
        "id": "l9PAioB6AtL8"
      },
      "outputs": [],
      "source": [
        "import pandas as pd\n",
        "import numpy as np\n",
        "import matplotlib.pyplot as plt\n",
        "from scipy.optimize import minimize\n",
        "import GPyOpt\n",
        "from pyDOE import lhs\n",
        "from skopt import gp_minimize\n",
        "from skopt.space import Real"
      ]
    },
    {
      "cell_type": "markdown",
      "source": [
        "If the step size in the reflectance data is not either 10 or 1 nanometer, we should employ interpolation method to achieve that. If you don't have that problem, skip this step."
      ],
      "metadata": {
        "id": "qnyFImo7K0oD"
      }
    },
    {
      "cell_type": "code",
      "source": [
        "data = np.array(pd.read_excel('Purple.xlsx',usecols='A:E')) #slime green\n",
        "\n",
        "x, y = data[:,0], data[:,4] #extracting raw x and Y values from 1st and second column of sheet\n",
        "\n",
        "LOWER_BOUND = 400  #smallest wavelength value to interpolate\n",
        "UPPER_BOUND = 700  #largest wavelength value to interpolate\n",
        "numOfValues = int((UPPER_BOUND - LOWER_BOUND)/10) + 1 #number of values to produce within the bounds\n",
        "\n",
        "\n",
        "x_space = np.linspace(LOWER_BOUND,UPPER_BOUND, numOfValues ) #whole number array list w/ +1 increments\n",
        "y_space = np.interp(x_space, x, y) #interpolating using whole number values and x, y data from spreedsheet\n",
        "\n",
        "\n",
        "plt.plot(x_space, y_space, label='interpolated reflectance')\n",
        "plt.plot(x,y, label='prior to interpolation')\n",
        "plt.title('Interpolated red petg')\n",
        "plt.xlabel('Wave Length')\n",
        "plt.ylabel('% Reflectance')\n",
        "plt.show()"
      ],
      "metadata": {
        "id": "ge3OvOVGLH6g"
      },
      "execution_count": null,
      "outputs": []
    },
    {
      "cell_type": "code",
      "source": [
        "#import your data here:\n",
        "\n",
        "#these are always the same\n",
        "xyzbar = np.array(pd.read_excel('XYZ.xlsx',usecols='C:E'))\n",
        "\n",
        "E = np.array(pd.read_excel('XYZ.xlsx',usecols='B'))\n",
        "\n",
        "#Reflectances\n",
        "data = np.array(pd.read_excel('clean-data-10nm.xlsx', usecols='A:J'))"
      ],
      "metadata": {
        "id": "7_t-RPf2Dbxq"
      },
      "execution_count": null,
      "outputs": []
    },
    {
      "cell_type": "code",
      "source": [
        "wavelength = data[:,0]\n",
        "\n",
        "#you could add any colors that you have\n",
        "white = data[:,1]\n",
        "red_petg = data[:,2]\n",
        "black = data[:,4]\n",
        "dark_purple = data[:,5] #light purple\n",
        "gray = data[:,6]\n",
        "blue_pla = data[:,7]\n",
        "cream = data[:,8]\n",
        "Slime_green = data[:,9]\n",
        "\n",
        "\n",
        "#purple PET-G\n",
        "target = data[:,3]"
      ],
      "metadata": {
        "id": "h0lPpMb2DqNX"
      },
      "execution_count": null,
      "outputs": []
    },
    {
      "cell_type": "markdown",
      "source": [
        "Plot the data"
      ],
      "metadata": {
        "id": "DSiv256pLrxp"
      }
    },
    {
      "cell_type": "code",
      "source": [
        "x = wavelength\n",
        "\n",
        "plt.plot(x, target, 'purple', label='target', linestyle= '-.', markersize='7')  # purple\n",
        "plt.plot(x, white, 'black', label='white', markersize='7')  # white\n",
        "plt.plot(x, red_petg, 'red', label='red_petg', markersize='7')  # red_petg\n",
        "plt.plot(x, black, 'black', label='black', markersize='7')  # black\n",
        "plt.plot(x, dark_purple, 'magenta', label='dark_purple', markersize='7')  # dark_purple\n",
        "plt.plot(x, gray, 'gray', label='gray', markersize='7')  # gray\n",
        "plt.plot(x, blue_pla, 'blue', label='blue_pla', markersize='7')  # blue_pla\n",
        "plt.plot(x, cream, 'orange', label='cream', markersize='7')  # cream\n",
        "plt.plot(x, Slime_green, 'green', label='Slime_green', markersize='7')  # Slime_green\n",
        "\n",
        "plt.xlabel('Wavelength')\n",
        "plt.ylabel('% Reflectance')\n",
        "plt.title('Reflectance of Samples Before Interpolation')\n",
        "plt.legend(loc='best')\n",
        "plt.grid(False)\n",
        "plt.show()"
      ],
      "metadata": {
        "id": "BxydeKKXLxlM"
      },
      "execution_count": null,
      "outputs": []
    },
    {
      "cell_type": "markdown",
      "source": [
        "A function to convert reflectance data to CIELAB"
      ],
      "metadata": {
        "id": "gGxENOa_D1LB"
      }
    },
    {
      "cell_type": "code",
      "source": [
        "def xyz(E, xbar, ybar, zbar, R):\n",
        "\n",
        "  E = np.array(E)\n",
        "  xbar = np.array(xbar)\n",
        "  ybar = np.array(ybar)\n",
        "  zbar = np.array(zbar)\n",
        "  R = np.array(R)\n",
        "\n",
        "  K = 100 / sum(E * ybar)\n",
        "  Xn = K * sum(E * xbar)\n",
        "  Yn = K * sum(E * ybar)\n",
        "  Zn = K * sum(E * zbar)\n",
        "  X = K * sum(E * xbar * R)\n",
        "  Y = K * sum(E * ybar * R)\n",
        "  Z = K * sum(E * zbar * R)\n",
        "  L = 116 * (abs(Y / Yn) ** (1 / 3)) - 16\n",
        "  a = 500 * (abs(X / Xn) * (1 / 3) - abs(Y / Yn) * (1 / 3))\n",
        "  b = np.where(np.abs(Y / Yn) < 1e-10, 0, 200 * (np.abs(Y / Yn) ** (1 / 3) - np.abs(Z / Zn) ** (1 / 3)))\n",
        "  XYZ = [X, Y, Z]\n",
        "  lab = [L, a, b]\n",
        "  return lab"
      ],
      "metadata": {
        "id": "7D9jel-DDyOX"
      },
      "execution_count": null,
      "outputs": []
    },
    {
      "cell_type": "markdown",
      "source": [
        "The Objective Function"
      ],
      "metadata": {
        "id": "I5OYxEh4EEBq"
      }
    },
    {
      "cell_type": "code",
      "source": [
        "def objective(proportions):\n",
        "\n",
        "    proportions = (proportions.reshape(5, 1)) #this could change based on the number of colors\n",
        "\n",
        "\n",
        "    #the target color might be made of more or less number of colors. This should change depending on your case\n",
        "    predicted_color = (proportions[0] * white +\n",
        "                       proportions[1] * red_petg +\n",
        "                       proportions[2] * dark_purple +\n",
        "                       proportions[3] * black +\n",
        "                       proportions[4] * blue_pla)\n",
        "\n",
        "    #shape = predicted_color.shape\n",
        "    #print(shape)\n",
        "\n",
        "    # RMS Error\n",
        "    lse_error = np.sqrt(np.mean((predicted_color - target) ** 2))\n",
        "\n",
        "    # ΔE Error\n",
        "    target_lab = xyz(E, xyzbar[:,0],xyzbar[:,1],xyzbar[:,2],target)\n",
        "    L_target, a_target, b_target = target_lab\n",
        "\n",
        "    predicted_lab = xyz(E, xyzbar[:,0],xyzbar[:,1],xyzbar[:,2],predicted_color)\n",
        "    L_predict, a_predict, b_predict = predicted_lab\n",
        "\n",
        "    delta_e = (sum((np.array(predicted_lab).real - np.array(target_lab).real) ** 2)) ** (0.5)\n",
        "    delta_e = np.nan_to_num(delta_e, nan=0)\n",
        "    delta_e_mean=(np.mean(delta_e))\n",
        "\n",
        "\n",
        "    # Combine the two error metrics as needed\n",
        "    combined_objective = 0.9 * lse_error + 0.1 * delta_e_mean\n",
        "\n",
        "\n",
        "    return combined_objective\n"
      ],
      "metadata": {
        "id": "zvzWzDUbD-J_"
      },
      "execution_count": null,
      "outputs": []
    },
    {
      "cell_type": "markdown",
      "source": [
        "Predicted spectrum"
      ],
      "metadata": {
        "id": "WllJQmNREc-d"
      }
    },
    {
      "cell_type": "code",
      "source": [
        "def predictedSpectrum (estimation):\n",
        "\n",
        "  predicted_spectrum = (estimation[0] * white +\n",
        "                      estimation[1] * red_petg +\n",
        "                      estimation[2] * dark_purple +\n",
        "                      estimation[3] * black +\n",
        "                      estimation[4] * blue_pla)\n",
        "  return predicted_spectrum\n"
      ],
      "metadata": {
        "id": "mHvzlWXBEgWV"
      },
      "execution_count": null,
      "outputs": []
    },
    {
      "cell_type": "markdown",
      "source": [
        "A function to define all sorts of evaluation metrics you might need. Here, RMS and Delta E are utilized:"
      ],
      "metadata": {
        "id": "Q_Ilc14XElcT"
      }
    },
    {
      "cell_type": "code",
      "source": [
        "def errors(pred_spec):\n",
        "  rms = np.sqrt(np.mean((pred_spec - target)**2))\n",
        "\n",
        "  target_lab = xyz(E, xyzbar[:,0],xyzbar[:,1],xyzbar[:,2],target)\n",
        "  L_target, a_target, b_target = target_lab\n",
        "\n",
        "  predicted_lab = xyz(E, xyzbar[:,0],xyzbar[:,1],xyzbar[:,2],pred_spec)\n",
        "  L_predict, a_predict, b_predict = predicted_lab\n",
        "\n",
        "  delta_e =  (sum((np.array(predicted_lab).real - np.array(target_lab).real) ** 2)) ** (0.5)\n",
        "  delta_e = np.nan_to_num(delta_e, nan=0)\n",
        "\n",
        "  result = print(f'RMS = {np.round(rms,4)}\\ndelta E = {np.round(np.mean(delta_e),4)}')\n",
        "\n",
        "  return result"
      ],
      "metadata": {
        "id": "Qvj2dYp2EuM7"
      },
      "execution_count": null,
      "outputs": []
    },
    {
      "cell_type": "markdown",
      "source": [
        "# **1.GPyOpt optimization method**"
      ],
      "metadata": {
        "id": "xbnHNH8ZE3BG"
      }
    },
    {
      "cell_type": "markdown",
      "source": [
        "Bounds"
      ],
      "metadata": {
        "id": "yzd-yI6UFDxg"
      }
    },
    {
      "cell_type": "code",
      "source": [
        "bounds = [{'name': 'proportion_1', 'type': 'continuous', 'domain': (0, 1)},\n",
        "          {'name': 'proportion_2', 'type': 'continuous', 'domain': (0, 1)},\n",
        "          {'name': 'proportion_3', 'type': 'continuous', 'domain': (0, 1)},\n",
        "          {'name': 'proportion_4', 'type': 'continuous', 'domain': (0, 1)},\n",
        "          {'name': 'proportion_5', 'type': 'continuous', 'domain': (0, 1)}]\n",
        "\n",
        "\n",
        "domain_values = [bound['domain'] for bound in bounds]\n",
        "print(np.shape(domain_values))\n",
        "print(domain_values)"
      ],
      "metadata": {
        "id": "xSUlIhdmE69Q"
      },
      "execution_count": null,
      "outputs": []
    },
    {
      "cell_type": "markdown",
      "source": [
        "1.1.The Optimization (EI, CMA)"
      ],
      "metadata": {
        "id": "zrDcgEn-FQXL"
      }
    },
    {
      "cell_type": "code",
      "source": [
        "initial_design_numdata = 5 # Number of initial data points\n",
        "initial_data = lhs(len(bounds), samples=initial_design_numdata)\n",
        "#print(f'Initial data =\\n {initial_data}')\n",
        "\n",
        "\n",
        "problem = GPyOpt.methods.BayesianOptimization(\n",
        "    f= objective,\n",
        "    domain= bounds,\n",
        "    X=initial_data,  # Number of initial data points\n",
        "    acquisition_type='EI',    # Expected Improvement\n",
        "    acquisition_optimizer='CMA',\n",
        "    maximize= False            # Set to True if maximizing the objective function\n",
        ")\n",
        "max_iter = 250\n",
        "problem.run_optimization(max_iter=max_iter)\n",
        "\n",
        "# Estimated proportions\n",
        "estimated= problem.x_opt\n",
        "estimated_value = problem.fx_opt"
      ],
      "metadata": {
        "id": "fW19-M-qFW3K"
      },
      "execution_count": null,
      "outputs": []
    },
    {
      "cell_type": "markdown",
      "source": [
        "The error"
      ],
      "metadata": {
        "id": "-4JrIxOdFb3o"
      }
    },
    {
      "cell_type": "code",
      "source": [
        "# Print the estimated proportions\n",
        "print(f'Estimated Proportions:\\n{estimated}')\n",
        "predicted_spectrum_0 = predictedSpectrum(estimated)\n",
        "evaluation = errors(predicted_spectrum_0)"
      ],
      "metadata": {
        "id": "rdm8ei6gFdVI"
      },
      "execution_count": null,
      "outputs": []
    },
    {
      "cell_type": "markdown",
      "source": [
        "1.2.The Optimization (EI, LBFGS)"
      ],
      "metadata": {
        "id": "LCuu2GNXFqmC"
      }
    },
    {
      "cell_type": "code",
      "source": [
        "initial_design_numdata = 5 # Number of initial data points\n",
        "initial_data = lhs(len(bounds), samples=initial_design_numdata)\n",
        "\n",
        "\n",
        "problem1 = GPyOpt.methods.BayesianOptimization(\n",
        "    f= objective,\n",
        "    domain= bounds,\n",
        "    X=initial_data,  # Number of initial data points\n",
        "    acquisition_type='EI',    # Expected Improvement\n",
        "    acquisition_optimizer='lbfgs',\n",
        "    maximize= False            # Set to True if maximizing the objective function\n",
        ")\n",
        "max_iter = 250\n",
        "problem1.run_optimization(max_iter=max_iter)\n",
        "\n",
        "# Estimated proportions\n",
        "estimated1= problem1.x_opt\n",
        "estimated_value1 = problem1.fx_opt"
      ],
      "metadata": {
        "id": "6PdjvSXrFyET"
      },
      "execution_count": null,
      "outputs": []
    },
    {
      "cell_type": "markdown",
      "source": [
        "Errors"
      ],
      "metadata": {
        "id": "WTOG7XhlGBqa"
      }
    },
    {
      "cell_type": "code",
      "source": [
        "# Print the estimated proportions\n",
        "print(f'Estimated Proportions1:\\n{estimated1}')\n",
        "predicted_spectrum_1 = predictedSpectrum(estimated1)\n",
        "evaluation = errors(predicted_spectrum_1)"
      ],
      "metadata": {
        "id": "xixhdztfGDfX"
      },
      "execution_count": null,
      "outputs": []
    },
    {
      "cell_type": "markdown",
      "source": [
        "1.3. The optimization (MPI,CMA)"
      ],
      "metadata": {
        "id": "ceLl0wiJGS-9"
      }
    },
    {
      "cell_type": "code",
      "source": [
        "initial_design_numdata = 5 # Number of initial data points\n",
        "initial_data = lhs(len(bounds), samples=initial_design_numdata)\n",
        "\n",
        "\n",
        "problem2 = GPyOpt.methods.BayesianOptimization(\n",
        "    f= objective,\n",
        "    domain= bounds,\n",
        "    X=initial_data,  # Number of initial data points\n",
        "    acquisition_type='MPI',    # Expected Improvement\n",
        "    acquisition_optimizer='CMA',\n",
        "    maximize= False            # Set to True if maximizing the objective function\n",
        ")\n",
        "max_iter = 250\n",
        "problem2.run_optimization(max_iter=max_iter)\n",
        "\n",
        "# Estimated proportions\n",
        "estimated2= problem2.x_opt\n",
        "estimated_value2 = problem2.fx_opt"
      ],
      "metadata": {
        "id": "9JQQcTZCGXF8"
      },
      "execution_count": null,
      "outputs": []
    },
    {
      "cell_type": "markdown",
      "source": [
        "Error"
      ],
      "metadata": {
        "id": "HPq8ms0-GawH"
      }
    },
    {
      "cell_type": "code",
      "source": [
        "# Print the estimated proportions\n",
        "print(f'Estimated Proportions:\\n{estimated2}')\n",
        "predicted_spectrum_2 = predictedSpectrum(estimated2)\n",
        "evaluation = errors(predicted_spectrum_2)"
      ],
      "metadata": {
        "id": "nnXqHtThGiiT"
      },
      "execution_count": null,
      "outputs": []
    },
    {
      "cell_type": "markdown",
      "source": [
        "1.4.The optimization (MPI, LBFGS)"
      ],
      "metadata": {
        "id": "Zex0u2liG9jf"
      }
    },
    {
      "cell_type": "code",
      "source": [
        "initial_design_numdata = 5 # Number of initial data points\n",
        "initial_data = lhs(len(bounds), samples=initial_design_numdata)\n",
        "\n",
        "\n",
        "problem3 = GPyOpt.methods.BayesianOptimization(\n",
        "    f= objective,\n",
        "    domain= bounds,\n",
        "    X=initial_data,  # Number of initial data points\n",
        "    acquisition_type='MPI',    # Expected Improvement\n",
        "    acquisition_optimizer='lbfgs',\n",
        "    maximize= False            # Set to True if maximizing the objective function\n",
        ")\n",
        "max_iter = 250\n",
        "problem3.run_optimization(max_iter=max_iter)\n",
        "\n",
        "# Estimated proportions\n",
        "estimated3= problem3.x_opt\n",
        "estimated_value3 = problem3.fx_opt"
      ],
      "metadata": {
        "id": "89erBnypHFHh"
      },
      "execution_count": null,
      "outputs": []
    },
    {
      "cell_type": "markdown",
      "source": [
        "The Error"
      ],
      "metadata": {
        "id": "hTQA7UyvHMbG"
      }
    },
    {
      "cell_type": "code",
      "source": [
        "# Print the estimated proportions\n",
        "print(f'Estimated Proportions:\\n{estimated3}')\n",
        "predicted_spectrum_3 = predictedSpectrum(estimated3)\n",
        "evaluation3 = errors(predicted_spectrum_3)"
      ],
      "metadata": {
        "id": "ZLK3U8ioHNh1"
      },
      "execution_count": null,
      "outputs": []
    },
    {
      "cell_type": "markdown",
      "source": [
        "# 2.Optimization using Bayesian Optimization in Scikit-Learn library"
      ],
      "metadata": {
        "id": "lDtiH2ndHSra"
      }
    },
    {
      "cell_type": "code",
      "source": [
        "def objective(proportions):\n",
        "\n",
        "\n",
        "  predicted_color = (proportions[0] * white +\n",
        "                       proportions[1] * red_petg +\n",
        "                       proportions[2] * dark_purple +\n",
        "                       proportions[3] * black +\n",
        "                       proportions[4] * blue_pla)\n",
        "\n",
        "  # RMS Error\n",
        "  lse_error = np.sqrt(np.mean((predicted_color - target) ** 2))\n",
        "\n",
        "  # ΔE Error\n",
        "  target_lab = xyz(E, xyzbar[:,0],xyzbar[:,1],xyzbar[:,2],target)\n",
        "  L_target, a_target, b_target = target_lab\n",
        "\n",
        "  predicted_lab = xyz(E, xyzbar[:,0],xyzbar[:,1],xyzbar[:,2],predicted_color)\n",
        "  L_predict, a_predict, b_predict = predicted_lab\n",
        "\n",
        "  delta_e = (sum((np.array(predicted_lab).real - np.array(target_lab).real) ** 2)) ** (0.5)\n",
        "  delta_e = np.nan_to_num(delta_e, nan=0)\n",
        "  delta_e_mean=(np.mean(delta_e))\n",
        "\n",
        "\n",
        "  # Combine the two error metrics as needed\n",
        "  combined_objective = 0.9 * lse_error + 0.1 * delta_e_mean\n",
        "\n",
        "\n",
        "  return combined_objective"
      ],
      "metadata": {
        "id": "6xn0YpgFHZN_"
      },
      "execution_count": null,
      "outputs": []
    },
    {
      "cell_type": "markdown",
      "source": [
        "The space and initial guess"
      ],
      "metadata": {
        "id": "taBnRy9WHkN4"
      }
    },
    {
      "cell_type": "code",
      "source": [
        "space = [Real(0,1, name='prop1'), Real(0,1, name='prop2'), Real(0,1, name='prop3'),\n",
        "         Real(0,1, name='prop4'), Real(0,1, name='prop5')]\n",
        "\n",
        "#the initial proportion of each color in the blend to start the optimization with\n",
        "guess = [0.12, 0.25 ,0.09, 0.04, 0.5]"
      ],
      "metadata": {
        "id": "uzl_b0V3HgVZ"
      },
      "execution_count": null,
      "outputs": []
    },
    {
      "cell_type": "markdown",
      "source": [
        "Optimization"
      ],
      "metadata": {
        "id": "ISrpMXrGH4gf"
      }
    },
    {
      "cell_type": "code",
      "source": [
        "result4 = gp_minimize(\n",
        "    objective,\n",
        "    space,\n",
        "    x0= guess,\n",
        "    n_calls = 250,\n",
        "    random_state = 42\n",
        ")\n",
        "\n",
        "estimated4 = result4.x\n",
        "print(estimated4)"
      ],
      "metadata": {
        "id": "lpD4phv5H8Bz"
      },
      "execution_count": null,
      "outputs": []
    },
    {
      "cell_type": "markdown",
      "source": [
        "Error"
      ],
      "metadata": {
        "id": "nQoOHVx9H9mD"
      }
    },
    {
      "cell_type": "code",
      "source": [
        "print(f'Estimated Proportions: {estimated4}')\n",
        "predicted_spectrum_4 = predictedSpectrum(estimated4)\n",
        "evaluation4 = errors(predicted_spectrum_4)"
      ],
      "metadata": {
        "id": "KzSCKXawH-ND"
      },
      "execution_count": null,
      "outputs": []
    },
    {
      "cell_type": "markdown",
      "source": [
        "# 3.Optimization methods using SciPy library"
      ],
      "metadata": {
        "id": "9zeLI-1TIEVT"
      }
    },
    {
      "cell_type": "markdown",
      "source": [
        "3.1. L-BFGS-B method"
      ],
      "metadata": {
        "id": "4MKgTTwkJt_L"
      }
    },
    {
      "cell_type": "code",
      "source": [
        "bounds = [(0,1)]*5\n",
        "result5 = minimize(objective,guess,bounds= bounds, method='L-BFGS-B')\n",
        "estimated5 = result5.x"
      ],
      "metadata": {
        "id": "CfnXGDX2Jsdo"
      },
      "execution_count": 4,
      "outputs": []
    },
    {
      "cell_type": "markdown",
      "source": [
        "Error"
      ],
      "metadata": {
        "id": "Pymif_XrJ-7P"
      }
    },
    {
      "cell_type": "code",
      "source": [
        "print(f'Estimated Proportions:\\n{estimated5}')\n",
        "predicted_spectrum_5 = predictedSpectrum(estimated5)\n",
        "evaluation5 = errors(predicted_spectrum_5)"
      ],
      "metadata": {
        "id": "Mg-BOfFuJ_t0"
      },
      "execution_count": null,
      "outputs": []
    },
    {
      "cell_type": "markdown",
      "source": [
        "3.2. SLSQP method"
      ],
      "metadata": {
        "id": "hVBXbzxsKK5L"
      }
    },
    {
      "cell_type": "code",
      "source": [
        "result6 = minimize(objective,guess,bounds= bounds, method='SLSQP')\n",
        "estimated6 = result6.x"
      ],
      "metadata": {
        "id": "CYraxdzyKSb_"
      },
      "execution_count": null,
      "outputs": []
    },
    {
      "cell_type": "markdown",
      "source": [
        "Error"
      ],
      "metadata": {
        "id": "IVIxUQ4lKTZX"
      }
    },
    {
      "cell_type": "code",
      "source": [
        "print(f'Estimated Proportions: {estimated6}')\n",
        "predicted_spectrum_6 = predictedSpectrum(estimated6)\n",
        "evaluation6 = errors(predicted_spectrum_6)"
      ],
      "metadata": {
        "id": "BNbH_8uOKUK-"
      },
      "execution_count": null,
      "outputs": []
    },
    {
      "cell_type": "markdown",
      "source": [
        "3.3. Nelder-Mead method"
      ],
      "metadata": {
        "id": "-bZygSdCKW-z"
      }
    },
    {
      "cell_type": "code",
      "source": [
        "result7 = minimize(objective,guess,bounds= bounds, method='Nelder-Mead')\n",
        "estimated7 = result7.x\n",
        "print(estimated7)"
      ],
      "metadata": {
        "id": "daun_aPrKebk"
      },
      "execution_count": null,
      "outputs": []
    },
    {
      "cell_type": "markdown",
      "source": [
        "Error"
      ],
      "metadata": {
        "id": "WytOLrpaKfhz"
      }
    },
    {
      "cell_type": "code",
      "source": [
        "print(f'Estimated Proportions:\\n{estimated7}')\n",
        "predicted_spectrum_7 = predictedSpectrum(estimated7)\n",
        "evaluation7 = errors(predicted_spectrum_7)"
      ],
      "metadata": {
        "id": "HGcSkBCXKgFp"
      },
      "execution_count": null,
      "outputs": []
    },
    {
      "cell_type": "markdown",
      "source": [
        "Now, we plot the results to compare it to the target spectra"
      ],
      "metadata": {
        "id": "zTDw93EGMEA7"
      }
    },
    {
      "cell_type": "code",
      "source": [
        "x = wavelength\n",
        "plt.plot(x, target, 'purple', label='Target color',linestyle='--', markersize='7')  # purple\n",
        "plt.plot(x, predicted_spectrum_0, 'r', label='EI,CMA', markersize='7')\n",
        "plt.plot(x, predicted_spectrum_1, 'b', label='EI,LBFGS', markersize='7')\n",
        "plt.plot(x, predicted_spectrum_2, 'g', label='MPI,CMA', markersize='7')\n",
        "plt.plot(x, predicted_spectrum_3, 'gray', label='MPI,LBFGS', markersize='7')\n",
        "plt.plot(x, predicted_spectrum_4, 'orange', label='Bayesian Optimization', markersize='7')\n",
        "plt.plot(x, predicted_spectrum_5, 'yellow', label='L-BFGS-B', markersize='7')\n",
        "plt.plot(x, predicted_spectrum_6, 'cyan', label='SLSQP', markersize='7')\n",
        "plt.plot(x, predicted_spectrum_7, 'k', label='Nelder-Mead', markersize='7')   # predicted\n",
        "plt.xlabel('wavelength (10nm)')\n",
        "plt.ylabel('%Reflectance')\n",
        "plt.title('Target Spectra vs Predicted spectra')\n",
        "plt.legend(loc='best')\n",
        "plt.grid(False )\n",
        "plt.show()"
      ],
      "metadata": {
        "id": "gB4cOiVsMMpK"
      },
      "execution_count": null,
      "outputs": []
    }
  ]
}