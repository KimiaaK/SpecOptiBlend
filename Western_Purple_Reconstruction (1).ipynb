{
  "nbformat": 4,
  "nbformat_minor": 0,
  "metadata": {
    "colab": {
      "provenance": []
    },
    "kernelspec": {
      "name": "python3",
      "display_name": "Python 3"
    },
    "language_info": {
      "name": "python"
    }
  },
  "cells": [
    {
      "cell_type": "markdown",
      "source": [
        "In this code, all the methods were tested to reconstruct dark purple."
      ],
      "metadata": {
        "id": "S2Br1L69v764"
      }
    },
    {
      "cell_type": "code",
      "execution_count": null,
      "metadata": {
        "colab": {
          "base_uri": "https://localhost:8080/"
        },
        "id": "bwPjMjPXQuUa",
        "outputId": "3c444a4b-6f9e-47e3-bc82-f2f2cecb4bef"
      },
      "outputs": [
        {
          "output_type": "stream",
          "name": "stdout",
          "text": [
            "Collecting GPyOpt\n",
            "  Downloading GPyOpt-1.2.6.tar.gz (56 kB)\n",
            "\u001b[2K     \u001b[90m━━━━━━━━━━━━━━━━━━━━━━━━━━━━━━━━━━━━━━━━\u001b[0m \u001b[32m56.8/56.8 kB\u001b[0m \u001b[31m1.3 MB/s\u001b[0m eta \u001b[36m0:00:00\u001b[0m\n",
            "\u001b[?25h  Preparing metadata (setup.py) ... \u001b[?25l\u001b[?25hdone\n",
            "Requirement already satisfied: numpy>=1.7 in /usr/local/lib/python3.10/dist-packages (from GPyOpt) (1.23.5)\n",
            "Requirement already satisfied: scipy>=0.16 in /usr/local/lib/python3.10/dist-packages (from GPyOpt) (1.11.3)\n",
            "Collecting GPy>=1.8 (from GPyOpt)\n",
            "  Downloading GPy-1.10.0.tar.gz (959 kB)\n",
            "\u001b[2K     \u001b[90m━━━━━━━━━━━━━━━━━━━━━━━━━━━━━━━━━━━━━━━━\u001b[0m \u001b[32m959.4/959.4 kB\u001b[0m \u001b[31m16.2 MB/s\u001b[0m eta \u001b[36m0:00:00\u001b[0m\n",
            "\u001b[?25h  Preparing metadata (setup.py) ... \u001b[?25l\u001b[?25hdone\n",
            "Requirement already satisfied: six in /usr/local/lib/python3.10/dist-packages (from GPy>=1.8->GPyOpt) (1.16.0)\n",
            "Collecting paramz>=0.9.0 (from GPy>=1.8->GPyOpt)\n",
            "  Downloading paramz-0.9.5.tar.gz (71 kB)\n",
            "\u001b[2K     \u001b[90m━━━━━━━━━━━━━━━━━━━━━━━━━━━━━━━━━━━━━━━━\u001b[0m \u001b[32m71.3/71.3 kB\u001b[0m \u001b[31m8.3 MB/s\u001b[0m eta \u001b[36m0:00:00\u001b[0m\n",
            "\u001b[?25h  Preparing metadata (setup.py) ... \u001b[?25l\u001b[?25hdone\n",
            "Requirement already satisfied: cython>=0.29 in /usr/local/lib/python3.10/dist-packages (from GPy>=1.8->GPyOpt) (3.0.4)\n",
            "Requirement already satisfied: decorator>=4.0.10 in /usr/local/lib/python3.10/dist-packages (from paramz>=0.9.0->GPy>=1.8->GPyOpt) (4.4.2)\n",
            "Building wheels for collected packages: GPyOpt, GPy, paramz\n",
            "  Building wheel for GPyOpt (setup.py) ... \u001b[?25l\u001b[?25hdone\n",
            "  Created wheel for GPyOpt: filename=GPyOpt-1.2.6-py3-none-any.whl size=83588 sha256=8f1636bb6f1eceef8c726a13bc98ed3ec1c6253d7d30c9ca7e9dc5fffd0e87db\n",
            "  Stored in directory: /root/.cache/pip/wheels/72/17/52/9d818b4c60f733bf49d5cf82bc2758ebbdc57a0471137c37be\n",
            "  Building wheel for GPy (setup.py) ... \u001b[?25l\u001b[?25hdone\n",
            "  Created wheel for GPy: filename=GPy-1.10.0-cp310-cp310-linux_x86_64.whl size=3420165 sha256=dbaa9f2472570f19f403b47f2dd8dbe7a24ab774190258d36c2b32f412cf1ef3\n",
            "  Stored in directory: /root/.cache/pip/wheels/27/bd/9f/82ab4216eae088cba864ca0dc1d75699bd4bf6823790fb2f77\n",
            "  Building wheel for paramz (setup.py) ... \u001b[?25l\u001b[?25hdone\n",
            "  Created wheel for paramz: filename=paramz-0.9.5-py3-none-any.whl size=102544 sha256=a0de6f55e6b6e73696ed6793a111744598d59f841dc61f3738deace3a5aafa23\n",
            "  Stored in directory: /root/.cache/pip/wheels/d2/ef/9c/da9ceef7d0ff5287c24365844fc394852c2b79ac3fcf33bf8b\n",
            "Successfully built GPyOpt GPy paramz\n",
            "Installing collected packages: paramz, GPy, GPyOpt\n",
            "Successfully installed GPy-1.10.0 GPyOpt-1.2.6 paramz-0.9.5\n",
            "Collecting pyDOE\n",
            "  Downloading pyDOE-0.3.8.zip (22 kB)\n",
            "  Preparing metadata (setup.py) ... \u001b[?25l\u001b[?25hdone\n",
            "Requirement already satisfied: numpy in /usr/local/lib/python3.10/dist-packages (from pyDOE) (1.23.5)\n",
            "Requirement already satisfied: scipy in /usr/local/lib/python3.10/dist-packages (from pyDOE) (1.11.3)\n",
            "Building wheels for collected packages: pyDOE\n",
            "  Building wheel for pyDOE (setup.py) ... \u001b[?25l\u001b[?25hdone\n",
            "  Created wheel for pyDOE: filename=pyDOE-0.3.8-py3-none-any.whl size=18168 sha256=c959c77bf97187956ddb7ba31416b4c57775185628b44c9c94ac6447fe654979\n",
            "  Stored in directory: /root/.cache/pip/wheels/ce/b6/d7/c6b64746dba6433c593e471e0ac3acf4f36040456d1d160d17\n",
            "Successfully built pyDOE\n",
            "Installing collected packages: pyDOE\n",
            "Successfully installed pyDOE-0.3.8\n",
            "Collecting scikit-optimize\n",
            "  Downloading scikit_optimize-0.9.0-py2.py3-none-any.whl (100 kB)\n",
            "\u001b[2K     \u001b[90m━━━━━━━━━━━━━━━━━━━━━━━━━━━━━━━━━━━━━━━━\u001b[0m \u001b[32m100.3/100.3 kB\u001b[0m \u001b[31m1.6 MB/s\u001b[0m eta \u001b[36m0:00:00\u001b[0m\n",
            "\u001b[?25hRequirement already satisfied: joblib>=0.11 in /usr/local/lib/python3.10/dist-packages (from scikit-optimize) (1.3.2)\n",
            "Collecting pyaml>=16.9 (from scikit-optimize)\n",
            "  Downloading pyaml-23.9.7-py3-none-any.whl (23 kB)\n",
            "Requirement already satisfied: numpy>=1.13.3 in /usr/local/lib/python3.10/dist-packages (from scikit-optimize) (1.23.5)\n",
            "Requirement already satisfied: scipy>=0.19.1 in /usr/local/lib/python3.10/dist-packages (from scikit-optimize) (1.11.3)\n",
            "Requirement already satisfied: scikit-learn>=0.20.0 in /usr/local/lib/python3.10/dist-packages (from scikit-optimize) (1.2.2)\n",
            "Requirement already satisfied: PyYAML in /usr/local/lib/python3.10/dist-packages (from pyaml>=16.9->scikit-optimize) (6.0.1)\n",
            "Requirement already satisfied: threadpoolctl>=2.0.0 in /usr/local/lib/python3.10/dist-packages (from scikit-learn>=0.20.0->scikit-optimize) (3.2.0)\n",
            "Installing collected packages: pyaml, scikit-optimize\n",
            "Successfully installed pyaml-23.9.7 scikit-optimize-0.9.0\n"
          ]
        }
      ],
      "source": [
        "import pandas as pd\n",
        "import numpy as np\n",
        "import matplotlib.pyplot as plt\n",
        "from scipy.optimize import minimize\n",
        "!pip install GPyOpt\n",
        "!pip install pyDOE\n",
        "import GPyOpt\n",
        "from pyDOE import lhs\n",
        "!pip install scikit-optimize\n",
        "from skopt import gp_minimize\n",
        "from skopt.space import Real"
      ]
    },
    {
      "cell_type": "code",
      "source": [
        "#xyz bar\n",
        "xyzbar = np.array(pd.read_excel('XYZ.xlsx',usecols='C:E'))\n",
        "E = np.array(pd.read_excel('XYZ.xlsx',usecols='B'))\n",
        "\n",
        "#Reflectances\n",
        "data = np.array(pd.read_excel('clean-data-10nm.xlsx', usecols='A:J'))\n",
        "\n",
        "wavelength = data[:,0]\n",
        "\n",
        "white = data[:,1]\n",
        "red_petg = data[:,2]\n",
        "black = data[:,4]\n",
        "dark_purple = data[:,5] #light purple\n",
        "gray = data[:,6]\n",
        "blue_pla = data[:,7]\n",
        "cream = data[:,8]\n",
        "Slime_green = data[:,9]\n",
        "\n",
        "\n",
        "#purple PET-G\n",
        "target = data[:,3]\n"
      ],
      "metadata": {
        "id": "aSh2QJShQ0tF"
      },
      "execution_count": null,
      "outputs": []
    },
    {
      "cell_type": "code",
      "source": [
        "def xyz(E, xbar, ybar, zbar, R):\n",
        "\n",
        "  E = np.array(E)\n",
        "  xbar = np.array(xbar)\n",
        "  ybar = np.array(ybar)\n",
        "  zbar = np.array(zbar)\n",
        "  R = np.array(R)\n",
        "\n",
        "  K = 100 / sum(E * ybar)\n",
        "  Xn = K * sum(E * xbar)\n",
        "  Yn = K * sum(E * ybar)\n",
        "  Zn = K * sum(E * zbar)\n",
        "  X = K * sum(E * xbar * R)\n",
        "  Y = K * sum(E * ybar * R)\n",
        "  Z = K * sum(E * zbar * R)\n",
        "  L = 116 * (abs(Y / Yn) ** (1 / 3)) - 16\n",
        "  a = 500 * (abs(X / Xn) * (1 / 3) - abs(Y / Yn) * (1 / 3))\n",
        "  b = np.where(np.abs(Y / Yn) < 1e-10, 0, 200 * (np.abs(Y / Yn) ** (1 / 3) - np.abs(Z / Zn) ** (1 / 3)))\n",
        "  XYZ = [X, Y, Z]\n",
        "  lab = [L, a, b]\n",
        "  return lab"
      ],
      "metadata": {
        "id": "enfDednlQ9lu"
      },
      "execution_count": null,
      "outputs": []
    },
    {
      "cell_type": "code",
      "source": [
        "def objective(proportions):\n",
        "\n",
        "    proportions = (proportions.reshape(5, 1))\n",
        "\n",
        "    predicted_color = (proportions[0] * white +\n",
        "                       proportions[1] * red_petg +\n",
        "                       proportions[2] * dark_purple +\n",
        "                       proportions[3] * black +\n",
        "                       proportions[4] * blue_pla)\n",
        "\n",
        "    #shape = predicted_color.shape\n",
        "    #print(shape)\n",
        "\n",
        "    # RMS Error\n",
        "    lse_error = np.sqrt(np.mean((predicted_color - target) ** 2))\n",
        "\n",
        "    # ΔE Error\n",
        "    target_lab = xyz(E, xyzbar[:,0],xyzbar[:,1],xyzbar[:,2],target)\n",
        "    L_target, a_target, b_target = target_lab\n",
        "\n",
        "    predicted_lab = xyz(E, xyzbar[:,0],xyzbar[:,1],xyzbar[:,2],predicted_color)\n",
        "    L_predict, a_predict, b_predict = predicted_lab\n",
        "\n",
        "    delta_e = (sum((np.array(predicted_lab).real - np.array(target_lab).real) ** 2)) ** (0.5)\n",
        "    delta_e = np.nan_to_num(delta_e, nan=0)\n",
        "    delta_e_mean=(np.mean(delta_e))\n",
        "\n",
        "\n",
        "    # Combine the two error metrics as needed\n",
        "    combined_objective = 0.9 * lse_error + 0.1 * delta_e_mean\n",
        "\n",
        "\n",
        "    return combined_objective\n"
      ],
      "metadata": {
        "id": "UeG1AczCQ-UX"
      },
      "execution_count": null,
      "outputs": []
    },
    {
      "cell_type": "code",
      "source": [
        "def predictedSpectrum (estimation):\n",
        "\n",
        "  predicted_spectrum = (estimation[0] * white +\n",
        "                      estimation[1] * red_petg +\n",
        "                      estimation[2] * dark_purple +\n",
        "                      estimation[3] * black +\n",
        "                      estimation[4] * blue_pla)\n",
        "  return predicted_spectrum\n"
      ],
      "metadata": {
        "id": "tRzaP495hApm"
      },
      "execution_count": null,
      "outputs": []
    },
    {
      "cell_type": "code",
      "source": [
        "def errors(pred_spec):\n",
        "  rms = np.sqrt(np.mean((pred_spec - target)**2))\n",
        "\n",
        "  target_lab = xyz(E, xyzbar[:,0],xyzbar[:,1],xyzbar[:,2],target)\n",
        "  L_target, a_target, b_target = target_lab\n",
        "\n",
        "  predicted_lab = xyz(E, xyzbar[:,0],xyzbar[:,1],xyzbar[:,2],pred_spec)\n",
        "  L_predict, a_predict, b_predict = predicted_lab\n",
        "\n",
        "  delta_e =  (sum((np.array(predicted_lab).real - np.array(target_lab).real) ** 2)) ** (0.5)\n",
        "  delta_e = np.nan_to_num(delta_e, nan=0)\n",
        "\n",
        "  result = print(f'RMS = {np.round(rms,4)}\\ndelta E = {np.round(np.mean(delta_e),4)}')\n",
        "\n",
        "  return result\n"
      ],
      "metadata": {
        "id": "ZUkis1YAh5sN"
      },
      "execution_count": null,
      "outputs": []
    },
    {
      "cell_type": "code",
      "source": [
        "bounds = [{'name': 'proportion_1', 'type': 'continuous', 'domain': (0, 1)},\n",
        "          {'name': 'proportion_2', 'type': 'continuous', 'domain': (0, 1)},\n",
        "          {'name': 'proportion_3', 'type': 'continuous', 'domain': (0, 1)},\n",
        "          {'name': 'proportion_4', 'type': 'continuous', 'domain': (0, 1)},\n",
        "          {'name': 'proportion_5', 'type': 'continuous', 'domain': (0, 1)}]\n",
        "\n",
        "domain_values = [bound['domain'] for bound in bounds]\n",
        "print(np.shape(domain_values))\n",
        "# Convert the list of domain values into a NumPy array with shape (5, 1)\n",
        "#array_bounds = np.array(domain_values).reshape(5, 1)\n",
        "print(domain_values)"
      ],
      "metadata": {
        "colab": {
          "base_uri": "https://localhost:8080/"
        },
        "id": "0T-WJiRORBlU",
        "outputId": "c721dabd-556f-4060-ad8a-3982118d32f0"
      },
      "execution_count": null,
      "outputs": [
        {
          "output_type": "stream",
          "name": "stdout",
          "text": [
            "(5, 2)\n",
            "[(0, 1), (0, 1), (0, 1), (0, 1), (0, 1)]\n"
          ]
        }
      ]
    },
    {
      "cell_type": "code",
      "source": [
        "initial_design_numdata = 5 # Number of initial data points\n",
        "initial_data = lhs(len(bounds), samples=initial_design_numdata)\n",
        "#print(f'Initial data =\\n {initial_data}')\n",
        "\n",
        "\n",
        "problem = GPyOpt.methods.BayesianOptimization(\n",
        "    f= objective,\n",
        "    domain= bounds,\n",
        "    X=initial_data,  # Number of initial data points\n",
        "    acquisition_type='EI',    # Expected Improvement\n",
        "    acquisition_optimizer='CMA',\n",
        "    maximize= False            # Set to True if maximizing the objective function\n",
        ")\n",
        "max_iter = 250\n",
        "problem.run_optimization(max_iter=max_iter)\n",
        "\n",
        "# Estimated proportions\n",
        "estimated= problem.x_opt\n",
        "estimated_value = problem.fx_opt"
      ],
      "metadata": {
        "id": "9nmtTM_gRcFW"
      },
      "execution_count": null,
      "outputs": []
    },
    {
      "cell_type": "code",
      "source": [
        "# Print the estimated proportions\n",
        "print(f'Estimated Proportions:\\n {estimated}')\n",
        "predicted_spectrum_0 = predictedSpectrum(estimated)\n",
        "evaluation = errors(predicted_spectrum_0)"
      ],
      "metadata": {
        "colab": {
          "base_uri": "https://localhost:8080/"
        },
        "id": "A83ML5EVTDIQ",
        "outputId": "8339146f-8d5f-405f-8387-85b5a540ca43"
      },
      "execution_count": null,
      "outputs": [
        {
          "output_type": "stream",
          "name": "stdout",
          "text": [
            "Estimated Proportions:\n",
            " [0.         0.14252506 0.         0.         0.7909381 ]\n",
            "RMS = 0.022\n",
            "delta E = 0.7849\n"
          ]
        }
      ]
    },
    {
      "cell_type": "markdown",
      "source": [
        "Optimization GPyOpt"
      ],
      "metadata": {
        "id": "1Qw25in2jqLL"
      }
    },
    {
      "cell_type": "code",
      "source": [
        "initial_design_numdata = 5 # Number of initial data points\n",
        "initial_data = lhs(len(bounds), samples=initial_design_numdata)\n",
        "#print(f'Initial data =\\n {initial_data}')\n",
        "\n",
        "\n",
        "problem1 = GPyOpt.methods.BayesianOptimization(\n",
        "    f= objective,\n",
        "    domain= bounds,\n",
        "    X=initial_data,  # Number of initial data points\n",
        "    acquisition_type='EI',    # Expected Improvement\n",
        "    acquisition_optimizer='lbfgs',\n",
        "    maximize= False            # Set to True if maximizing the objective function\n",
        ")\n",
        "max_iter = 250\n",
        "problem1.run_optimization(max_iter=max_iter)\n",
        "\n",
        "# Estimated proportions\n",
        "estimated1= problem1.x_opt\n",
        "estimated_value1 = problem1.fx_opt"
      ],
      "metadata": {
        "id": "RDAoUd0cRgl5"
      },
      "execution_count": null,
      "outputs": []
    },
    {
      "cell_type": "markdown",
      "source": [
        "Errors"
      ],
      "metadata": {
        "id": "2Do1guSSji-b"
      }
    },
    {
      "cell_type": "code",
      "source": [
        "# Print the estimated proportions\n",
        "print(f'Estimated Proportions1: {estimated1}')\n",
        "predicted_spectrum_1 = predictedSpectrum(estimated1)\n",
        "evaluation = errors(predicted_spectrum_1)"
      ],
      "metadata": {
        "colab": {
          "base_uri": "https://localhost:8080/"
        },
        "id": "8Gv0MBMQUyMo",
        "outputId": "384c00c1-2bbe-4d95-f1e7-4e9fa4de708d"
      },
      "execution_count": null,
      "outputs": [
        {
          "output_type": "stream",
          "name": "stdout",
          "text": [
            "Estimated Proportions1: [0.         0.15308245 0.         0.         0.78823816]\n",
            "RMS = 0.021\n",
            "delta E = 0.7862\n"
          ]
        }
      ]
    },
    {
      "cell_type": "code",
      "source": [
        "initial_design_numdata = 5 # Number of initial data points\n",
        "initial_data = lhs(len(bounds), samples=initial_design_numdata)\n",
        "#print(f'Initial data =\\n {initial_data}')\n",
        "\n",
        "\n",
        "problem2 = GPyOpt.methods.BayesianOptimization(\n",
        "    f= objective,\n",
        "    domain= bounds,\n",
        "    X=initial_data,  # Number of initial data points\n",
        "    acquisition_type='MPI',    # Expected Improvement\n",
        "    acquisition_optimizer='CMA',\n",
        "    maximize= False            # Set to True if maximizing the objective function\n",
        ")\n",
        "max_iter = 250\n",
        "problem2.run_optimization(max_iter=max_iter)\n",
        "\n",
        "# Estimated proportions\n",
        "estimated2= problem2.x_opt\n",
        "estimated_value2 = problem2.fx_opt"
      ],
      "metadata": {
        "id": "NngGaKEZVLUr"
      },
      "execution_count": null,
      "outputs": []
    },
    {
      "cell_type": "markdown",
      "source": [
        "Errors"
      ],
      "metadata": {
        "id": "yqx124F9j6RT"
      }
    },
    {
      "cell_type": "code",
      "source": [
        "# Print the estimated proportions\n",
        "print(f'Estimated Proportions: {estimated2}')\n",
        "predicted_spectrum_2 = predictedSpectrum(estimated2)\n",
        "evaluation = errors(predicted_spectrum_2)"
      ],
      "metadata": {
        "colab": {
          "base_uri": "https://localhost:8080/"
        },
        "id": "Y5CD27HwVTbk",
        "outputId": "594bc438-7fe6-4c9e-c305-284d29daf2ea"
      },
      "execution_count": null,
      "outputs": [
        {
          "output_type": "stream",
          "name": "stdout",
          "text": [
            "Estimated Proportions: [0.         0.1488995  0.         0.         0.81534032]\n",
            "RMS = 0.019\n",
            "delta E = 0.8144\n"
          ]
        }
      ]
    },
    {
      "cell_type": "code",
      "source": [
        "initial_design_numdata = 5 # Number of initial data points\n",
        "initial_data = lhs(len(bounds), samples=initial_design_numdata)\n",
        "#print(f'Initial data =\\n {initial_data}')\n",
        "\n",
        "\n",
        "problem3 = GPyOpt.methods.BayesianOptimization(\n",
        "    f= objective,\n",
        "    domain= bounds,\n",
        "    X=initial_data,  # Number of initial data points\n",
        "    acquisition_type='MPI',    # Expected Improvement\n",
        "    acquisition_optimizer='lbfgs',\n",
        "    maximize= False            # Set to True if maximizing the objective function\n",
        ")\n",
        "max_iter = 250\n",
        "problem3.run_optimization(max_iter=max_iter)\n",
        "\n",
        "# Estimated proportions\n",
        "estimated3= problem3.x_opt\n",
        "estimated_value3 = problem3.fx_opt"
      ],
      "metadata": {
        "id": "OPJS9hf-NHCn"
      },
      "execution_count": null,
      "outputs": []
    },
    {
      "cell_type": "code",
      "source": [
        "# Print the estimated proportions\n",
        "print(f'Estimated Proportions: {estimated3}')\n",
        "predicted_spectrum_3 = predictedSpectrum(estimated3)\n",
        "evaluation3 = errors(predicted_spectrum_3)"
      ],
      "metadata": {
        "colab": {
          "base_uri": "https://localhost:8080/"
        },
        "id": "6XBhF4iyNnQf",
        "outputId": "2a1fd8ab-32a8-4d67-cea5-6cf539dbc0fb"
      },
      "execution_count": null,
      "outputs": [
        {
          "output_type": "stream",
          "name": "stdout",
          "text": [
            "Estimated Proportions: [0.         0.14411228 0.         0.         0.83484129]\n",
            "RMS = 0.0197\n",
            "delta E = 0.8833\n"
          ]
        }
      ]
    },
    {
      "cell_type": "markdown",
      "source": [
        "**SciKit Optimize**"
      ],
      "metadata": {
        "id": "JmJajH66Olpe"
      }
    },
    {
      "cell_type": "code",
      "source": [
        "def objective(proportions):\n",
        "\n",
        "\n",
        "  predicted_color = (proportions[0] * white +\n",
        "                       proportions[1] * red_petg +\n",
        "                       proportions[2] * dark_purple +\n",
        "                       proportions[3] * black +\n",
        "                       proportions[4] * blue_pla)\n",
        "\n",
        "  # RMS Error\n",
        "  lse_error = np.sqrt(np.mean((predicted_color - target) ** 2))\n",
        "\n",
        "  # ΔE Error\n",
        "  target_lab = xyz(E, xyzbar[:,0],xyzbar[:,1],xyzbar[:,2],target)\n",
        "  L_target, a_target, b_target = target_lab\n",
        "\n",
        "  predicted_lab = xyz(E, xyzbar[:,0],xyzbar[:,1],xyzbar[:,2],predicted_color)\n",
        "  L_predict, a_predict, b_predict = predicted_lab\n",
        "\n",
        "  delta_e = (sum((np.array(predicted_lab).real - np.array(target_lab).real) ** 2)) ** (0.5)\n",
        "  delta_e = np.nan_to_num(delta_e, nan=0)\n",
        "  delta_e_mean=(np.mean(delta_e))\n",
        "\n",
        "\n",
        "  # Combine the two error metrics as needed\n",
        "  combined_objective = 0.9 * lse_error + 0.1 * delta_e_mean\n",
        "\n",
        "\n",
        "  return combined_objective\n",
        "\n",
        "\n",
        "\n",
        "space = [Real(0,1, name='prop1'), Real(0,1, name='prop2'), Real(0,1, name='prop3'),\n",
        "         Real(0,1, name='prop4'), Real(0,1, name='prop5')]\n",
        "\n",
        "guess = [0.12, 0.25 ,0.09, 0.04, 0.5]\n",
        "\n",
        "result4 = gp_minimize(\n",
        "    objective,\n",
        "    space,\n",
        "    x0= guess,\n",
        "    n_calls = 250,\n",
        "    random_state = 42\n",
        ")\n",
        "\n",
        "estimated4 = result4.x\n",
        "print(estimated4)\n",
        "\n",
        "\n",
        "# Print the estimated proportions\n",
        "print(f'Estimated Proportions: {estimated4}')\n",
        "predicted_spectrum_4 = predictedSpectrum(estimated4)\n",
        "evaluation4 = errors(predicted_spectrum_4)"
      ],
      "metadata": {
        "colab": {
          "base_uri": "https://localhost:8080/"
        },
        "id": "ehF5XwlCOuLS",
        "outputId": "596ea56c-c9e8-4988-c251-9a4f20e426fe"
      },
      "execution_count": null,
      "outputs": [
        {
          "output_type": "stream",
          "name": "stdout",
          "text": [
            "[0.0, 0.15073733753673932, 0.0, 0.0, 0.7923886279331769]\n",
            "Estimated Proportions: [0.0, 0.15073733753673932, 0.0, 0.0, 0.7923886279331769]\n",
            "RMS = 0.0206\n",
            "delta E = 0.7845\n"
          ]
        }
      ]
    },
    {
      "cell_type": "markdown",
      "source": [
        "**SciPy methods**"
      ],
      "metadata": {
        "id": "PJA1hv68P8Uq"
      }
    },
    {
      "cell_type": "code",
      "source": [
        "from scipy.optimize import minimize\n",
        "\n",
        "bounds = [(0,1)]*5\n",
        "result5 = minimize(objective,guess,bounds= bounds, method='L-BFGS-B')\n",
        "estimated5 = result5.x\n",
        "\n",
        "\n",
        "# Print the estimated proportions\n",
        "print(f'Estimated Proportions: {estimated5}')\n",
        "predicted_spectrum_5 = predictedSpectrum(estimated5)\n",
        "evaluation5 = errors(predicted_spectrum_5)"
      ],
      "metadata": {
        "colab": {
          "base_uri": "https://localhost:8080/"
        },
        "id": "zWA6BjCKQDqx",
        "outputId": "3e3508fd-b2ab-4e70-c8c4-faff1377f8c6"
      },
      "execution_count": null,
      "outputs": [
        {
          "output_type": "stream",
          "name": "stdout",
          "text": [
            "Estimated Proportions: [0.         0.15332428 0.         0.         0.79073339]\n",
            "RMS = 0.0206\n",
            "delta E = 0.7842\n"
          ]
        }
      ]
    },
    {
      "cell_type": "code",
      "source": [
        "result6 = minimize(objective,guess,bounds= bounds, method='SLSQP')\n",
        "estimated6 = result6.x\n",
        "\n",
        "\n",
        "# Print the estimated proportions\n",
        "print(f'Estimated Proportions:\\n {estimated6}')\n",
        "predicted_spectrum_6 = predictedSpectrum(estimated6)\n",
        "evaluation6 = errors(predicted_spectrum_6)"
      ],
      "metadata": {
        "colab": {
          "base_uri": "https://localhost:8080/"
        },
        "id": "GyK1Qy6zQyx9",
        "outputId": "a068f551-828a-4d88-8acc-56e569e55599"
      },
      "execution_count": null,
      "outputs": [
        {
          "output_type": "stream",
          "name": "stdout",
          "text": [
            "Estimated Proportions:\n",
            " [9.45180644e-18 1.50957010e-01 3.94896429e-03 8.66447014e-18\n",
            " 7.89609869e-01]\n",
            "RMS = 0.0206\n",
            "delta E = 0.7845\n"
          ]
        }
      ]
    },
    {
      "cell_type": "code",
      "source": [
        "result7 = minimize(objective,guess,bounds= bounds, method='Nelder-Mead')\n",
        "estimated7 = result7.x\n",
        "print(estimated7)\n",
        "\n",
        "\n",
        "# Print the estimated proportions\n",
        "print(f'Estimated Proportions: {estimated7}')\n",
        "predicted_spectrum_7 = predictedSpectrum(estimated7)\n",
        "evaluation7 = errors(predicted_spectrum_7)"
      ],
      "metadata": {
        "colab": {
          "base_uri": "https://localhost:8080/"
        },
        "id": "mKNnJUxRRHE-",
        "outputId": "ba07c7bd-b321-4738-807b-9ac4c292e9cc"
      },
      "execution_count": null,
      "outputs": [
        {
          "output_type": "stream",
          "name": "stdout",
          "text": [
            "[0.00467902 0.13508092 0.04877429 0.0287748  0.75151052]\n",
            "Estimated Proportions: [0.00467902 0.13508092 0.04877429 0.0287748  0.75151052]\n",
            "RMS = 0.021\n",
            "delta E = 0.8326\n"
          ]
        }
      ]
    },
    {
      "cell_type": "code",
      "source": [
        "x = wavelength\n",
        "plt.plot(x, target, 'purple', label='Target color',linestyle='--', markersize='7')  # purple\n",
        "plt.plot(x, predicted_spectrum_0, 'r', label='EI,CMA', markersize='7')\n",
        "plt.plot(x, predicted_spectrum_1, 'b', label='EI,LBFGS', markersize='7')\n",
        "plt.plot(x, predicted_spectrum_2, 'g', label='MPI,CMA', markersize='7')\n",
        "plt.plot(x, predicted_spectrum_3, 'gray', label='MPI,LBFGS', markersize='7')\n",
        "plt.plot(x, predicted_spectrum_4, 'orange', label='Bayesian Optimization', markersize='7')\n",
        "plt.plot(x, predicted_spectrum_5, 'yellow', label='L-BFGS-B', markersize='7')\n",
        "plt.plot(x, predicted_spectrum_6, 'cyan', label='SLSQP', markersize='7')\n",
        "plt.plot(x, predicted_spectrum_7, 'k', label='Nelder-Mead', markersize='7')   # predicted\n",
        "plt.xlabel('wavelength (10nm)')\n",
        "plt.ylabel('%Reflectance')\n",
        "plt.title('Target Spectra vs Predicted spectra')\n",
        "plt.legend(loc='best')\n",
        "plt.grid(False )\n",
        "plt.show()"
      ],
      "metadata": {
        "colab": {
          "base_uri": "https://localhost:8080/",
          "height": 472
        },
        "id": "TV_2ITOUN72n",
        "outputId": "955558f8-039c-46e3-df18-a8d048058519"
      },
      "execution_count": null,
      "outputs": [
        {
          "output_type": "display_data",
          "data": {
            "text/plain": [
              "<Figure size 640x480 with 1 Axes>"
            ],
            "image/png": "[encoded data removed]"
          },
          "metadata": {}
        }
      ]
    }
  ]
}