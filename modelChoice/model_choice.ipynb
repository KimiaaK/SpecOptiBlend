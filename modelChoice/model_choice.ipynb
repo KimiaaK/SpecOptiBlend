{
  "nbformat": 4,
  "nbformat_minor": 0,
  "metadata": {
    "colab": {
      "provenance": []
    },
    "kernelspec": {
      "name": "python3",
      "display_name": "Python 3"
    },
    "language_info": {
      "name": "python"
    }
  },
  "cells": [
    {
      "cell_type": "markdown",
      "source": [
        "This code helps to find the method that brings the optimum values for both errors."
      ],
      "metadata": {
        "id": "zV4L0Kyzhx36"
      }
    },
    {
      "cell_type": "code",
      "source": [
        "error = [(0.0333, 0.8743), (0.0297, 0.941), (0.0344, 0.8722),\n",
        "         (0.028, 0.9009), (0.0283, 0.8918),\n",
        "         (0.0288, 0.8869), (0.0288, 0.8868), (0.0286, 0.8887)]\n",
        "\n",
        "# Separate x[0] values and x[1] values\n",
        "x0_values = [x[0] for x in error]\n",
        "x1_values = [x[1] for x in error]\n",
        "\n",
        "# Find the minimum x[0] and minimum x[1]\n",
        "min_x0 = min(x0_values)\n",
        "min_x1 = min(x1_values)\n",
        "\n",
        "# Find the second, third, and fourth lowest x[0] and x[1]\n",
        "second_min_x0 = sorted(set(x0_values) - {min_x0})[0]\n",
        "third_min_x0 = sorted(set(x0_values) - {min_x0, second_min_x0})[0]\n",
        "fourth_min_x0 = sorted(set(x0_values) - {min_x0, second_min_x0, third_min_x0})[0]\n",
        "\n",
        "second_min_x1 = sorted(set(x1_values) - {min_x1})[0]\n",
        "third_min_x1 = sorted(set(x1_values) - {min_x1, second_min_x1})[0]\n",
        "fourth_min_x1 = sorted(set(x1_values) - {min_x1, second_min_x1, third_min_x1})[0]\n",
        "\n",
        "# Find the tuples with the second, third, and fourth lowest x[0] and x[1]\n",
        "best_tuples = [x for x in error if (x[0] in (second_min_x0, third_min_x0, fourth_min_x0)) and (x[1] in (second_min_x1, third_min_x1, fourth_min_x1))]\n",
        "\n",
        "if best_tuples:\n",
        "    # If there are tuples that meet the criteria, you can choose one of them\n",
        "    best_tuple = best_tuples[0]\n",
        "    print(\"The best choice tuple: \", best_tuple)\n",
        "else:\n",
        "    # Handle the case where no tuple satisfies the condition\n",
        "    print(\"No tuple meets the criteria.\")\n"
      ],
      "metadata": {
        "colab": {
          "base_uri": "https://localhost:8080/"
        },
        "id": "_EpoEQNWkBCO",
        "outputId": "7114994d-33d3-4c80-c4cd-4c390aba8d85"
      },
      "execution_count": 25,
      "outputs": [
        {
          "output_type": "stream",
          "name": "stdout",
          "text": [
            "The best choice tuple:  (0.0288, 0.8869)\n"
          ]
        }
      ]
    }
  ]
}